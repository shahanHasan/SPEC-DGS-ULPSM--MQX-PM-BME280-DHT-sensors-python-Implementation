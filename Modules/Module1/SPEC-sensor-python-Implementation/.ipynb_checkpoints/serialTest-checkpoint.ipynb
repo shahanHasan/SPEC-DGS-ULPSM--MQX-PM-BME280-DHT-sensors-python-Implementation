{
 "cells": [
  {
   "cell_type": "code",
   "execution_count": 1,
   "id": "reported-hours",
   "metadata": {},
   "outputs": [
    {
     "name": "stdout",
     "output_type": "stream",
     "text": [
      "b'022321011118 110102 CO 2103 4.21'\n",
      "b'0'\n",
      "b'0'\n",
      "b'2'\n",
      "b'2'\n",
      "b'3'\n",
      "b'2'\n",
      "b'1'\n",
      "b'0'\n",
      "b'1'\n",
      "b'1'\n",
      "b'1'\n",
      "b'1'\n",
      "b'8'\n",
      "b' '\n",
      "b'1'\n",
      "b'1'\n",
      "b'0'\n",
      "b'1'\n",
      "b'0'\n",
      "b'2'\n",
      "b' '\n",
      "b'C'\n",
      "b'O'\n",
      "b' '\n",
      "b'2'\n",
      "b'1'\n",
      "b'0'\n",
      "b'3'\n",
      "b' '\n",
      "b'4'\n",
      "b'.'\n",
      "b'2'\n",
      "b'1'\n"
     ]
    }
   ],
   "source": [
    "import struct\n",
    "barcode = \"022321011118 110102 CO 2103 4.21\"\n",
    "barcode2 = \"120120020411 110601 SO2 2012 32.21\"\n",
    "barcode = barcode.encode()\n",
    "barcode2 = barcode2.encode()\n",
    "print(f\" so2 : {barcode2}\")\n",
    "print(barcode)\n",
    "barcode = struct.unpack('32c', barcode)\n",
    "barcode2 = struct.unpack('32c', barcode2)\n",
    "#print(barcode[0])\n",
    "for i in barcode2:\n",
    "    print(i)"
   ]
  },
  {
   "cell_type": "code",
   "execution_count": 16,
   "id": "excited-praise",
   "metadata": {},
   "outputs": [
    {
     "name": "stdout",
     "output_type": "stream",
     "text": [
      "b'\\x1c'\n"
     ]
    }
   ],
   "source": [
    "my_dict = {\n",
    "    'a' : 1,\n",
    "    'b' : 2,\n",
    "    'c' : 3\n",
    "}\n",
    "\n",
    "a = bytes([28])\n",
    "print(a)"
   ]
  },
  {
   "cell_type": "code",
   "execution_count": 9,
   "id": "expected-package",
   "metadata": {},
   "outputs": [
    {
     "name": "stdout",
     "output_type": "stream",
     "text": [
      "b'\\x03'\n"
     ]
    }
   ],
   "source": [
    "a = 3\n",
    "\n",
    "assert a < 10\n",
    "\n",
    "print(bytes([a]))"
   ]
  },
  {
   "cell_type": "code",
   "execution_count": 33,
   "id": "smoking-defeat",
   "metadata": {},
   "outputs": [
    {
     "name": "stdout",
     "output_type": "stream",
     "text": [
      "7\n"
     ]
    }
   ],
   "source": [
    "a = b'\\xaa'\n",
    "b = b'\\xbb'\n",
    "c = b'\\xcc'\n",
    "d = b'\\xff'\n",
    "f = b'\\x00'\n",
    "\n",
    "\n",
    "cmd = a + b\n",
    "cmd += (c + (d) + f)\n",
    "cmd += b'\\xff' + b'\\xff'\n",
    "print(len(cmd))"
   ]
  },
  {
   "cell_type": "code",
   "execution_count": 31,
   "id": "wanted-advancement",
   "metadata": {},
   "outputs": [
    {
     "name": "stdout",
     "output_type": "stream",
     "text": [
      "False\n"
     ]
    }
   ],
   "source": [
    "print(1 and False)"
   ]
  },
  {
   "cell_type": "code",
   "execution_count": 61,
   "id": "ancient-myrtle",
   "metadata": {},
   "outputs": [
    {
     "name": "stdout",
     "output_type": "stream",
     "text": [
      "b'\\\\xas'\n"
     ]
    },
    {
     "ename": "UnicodeDecodeError",
     "evalue": "'unicodeescape' codec can't decode bytes in position 0-2: truncated \\xXX escape",
     "output_type": "error",
     "traceback": [
      "\u001b[0;31m---------------------------------------------------------------------------\u001b[0m",
      "\u001b[0;31mUnicodeDecodeError\u001b[0m                        Traceback (most recent call last)",
      "\u001b[0;32m<ipython-input-61-8a48e9f109ac>\u001b[0m in \u001b[0;36m<module>\u001b[0;34m\u001b[0m\n\u001b[1;32m      2\u001b[0m \u001b[0mb\u001b[0m \u001b[0;34m=\u001b[0m \u001b[0ma\u001b[0m\u001b[0;34m.\u001b[0m\u001b[0mencode\u001b[0m\u001b[0;34m(\u001b[0m\u001b[0;34m)\u001b[0m\u001b[0;34m\u001b[0m\u001b[0;34m\u001b[0m\u001b[0m\n\u001b[1;32m      3\u001b[0m \u001b[0mprint\u001b[0m\u001b[0;34m(\u001b[0m\u001b[0mb\u001b[0m\u001b[0;34m)\u001b[0m\u001b[0;34m\u001b[0m\u001b[0;34m\u001b[0m\u001b[0m\n\u001b[0;32m----> 4\u001b[0;31m \u001b[0mc\u001b[0m \u001b[0;34m=\u001b[0m \u001b[0mb\u001b[0m\u001b[0;34m.\u001b[0m\u001b[0mdecode\u001b[0m\u001b[0;34m(\u001b[0m\u001b[0;34m'unicode-escape'\u001b[0m\u001b[0;34m)\u001b[0m\u001b[0;34m\u001b[0m\u001b[0;34m\u001b[0m\u001b[0m\n\u001b[0m\u001b[1;32m      5\u001b[0m \u001b[0mprint\u001b[0m\u001b[0;34m(\u001b[0m\u001b[0mc\u001b[0m\u001b[0;34m)\u001b[0m\u001b[0;34m\u001b[0m\u001b[0;34m\u001b[0m\u001b[0m\n\u001b[1;32m      6\u001b[0m \u001b[0;32mfrom\u001b[0m \u001b[0mplatform\u001b[0m \u001b[0;32mimport\u001b[0m \u001b[0mpython_version\u001b[0m\u001b[0;34m\u001b[0m\u001b[0;34m\u001b[0m\u001b[0m\n",
      "\u001b[0;31mUnicodeDecodeError\u001b[0m: 'unicodeescape' codec can't decode bytes in position 0-2: truncated \\xXX escape"
     ]
    }
   ],
   "source": [
    "a = \"\\\\xas\"\n",
    "b = a.encode()\n",
    "print(b)\n",
    "c = b.decode('unicode-escape')\n",
    "print(c)\n",
    "from platform import python_version\n",
    "print(python_version())"
   ]
  },
  {
   "cell_type": "code",
   "execution_count": 41,
   "id": "identical-cambodia",
   "metadata": {},
   "outputs": [
    {
     "name": "stdout",
     "output_type": "stream",
     "text": [
      "b'as'\n"
     ]
    }
   ],
   "source": [
    "print(bytes(a,'ISO-8859-1'))"
   ]
  },
  {
   "cell_type": "code",
   "execution_count": 11,
   "id": "sophisticated-tennessee",
   "metadata": {},
   "outputs": [
    {
     "data": {
      "text/plain": [
       "b'as'"
      ]
     },
     "execution_count": 11,
     "metadata": {},
     "output_type": "execute_result"
    }
   ],
   "source": [
    "a = \"as\".encode()\n",
    "b = a.hex()\n",
    "bytes.fromhex(b)"
   ]
  },
  {
   "cell_type": "code",
   "execution_count": 31,
   "id": "thrown-flood",
   "metadata": {},
   "outputs": [
    {
     "name": "stdout",
     "output_type": "stream",
     "text": [
      "<class 'bytes'>\n",
      "30\n",
      "0\n"
     ]
    }
   ],
   "source": [
    "from struct import *\n",
    "\n",
    "s = pack(\"h\", 30)\n",
    "print(type(s))\n",
    "\n",
    "for b in s:\n",
    "    print(b)"
   ]
  },
  {
   "cell_type": "code",
   "execution_count": 34,
   "id": "common-tiffany",
   "metadata": {},
   "outputs": [
    {
     "name": "stdout",
     "output_type": "stream",
     "text": [
      "ab\n",
      "<class 'str'>\n"
     ]
    }
   ],
   "source": [
    "a = b'\\xab'\n",
    "hs = a.hex()\n",
    "print(hs)\n",
    "print(type(hs))"
   ]
  },
  {
   "cell_type": "code",
   "execution_count": 35,
   "id": "compact-affect",
   "metadata": {},
   "outputs": [
    {
     "name": "stdout",
     "output_type": "stream",
     "text": [
      "b'\\xab'\n"
     ]
    }
   ],
   "source": [
    "print(bytes.fromhex(hs))"
   ]
  },
  {
   "cell_type": "code",
   "execution_count": 45,
   "id": "distributed-prescription",
   "metadata": {},
   "outputs": [
    {
     "name": "stdout",
     "output_type": "stream",
     "text": [
      "b'\\xa2'\n"
     ]
    }
   ],
   "source": [
    "s = \"a2\"\n",
    "print(bytes.fromhex(s))"
   ]
  },
  {
   "cell_type": "code",
   "execution_count": 59,
   "id": "incoming-cincinnati",
   "metadata": {},
   "outputs": [
    {
     "name": "stdout",
     "output_type": "stream",
     "text": [
      "83\n",
      "83\n"
     ]
    },
    {
     "data": {
      "text/plain": [
       "True"
      ]
     },
     "execution_count": 59,
     "metadata": {},
     "output_type": "execute_result"
    }
   ],
   "source": [
    "b = b'\\xaa\\xc5\\x06\\x01\\x01\\x00W\\xf4S\\xab'\n",
    "print(sum(d for d in b[2:8]) % 256)\n",
    "print(b[8])\n",
    "a = sum(d for d in b[2:8]) % 256\n",
    "c = b[8]\n",
    "a == c"
   ]
  },
  {
   "cell_type": "code",
   "execution_count": 83,
   "id": "chronic-going",
   "metadata": {},
   "outputs": [
    {
     "name": "stdout",
     "output_type": "stream",
     "text": [
      "11\n",
      "b'\\xaa\\xc0\\xaf\\x00<\\x01W\\xf47\\xab\\xaa'\n",
      "87\n",
      "244\n",
      "0\n",
      "60\n",
      "1\n",
      "(175, 316, 55, 171, 170)\n",
      "b'\\x00<\\x01'\n",
      "3\n",
      "5\n",
      "(0, 60, 1)\n"
     ]
    }
   ],
   "source": [
    "a = b'\\xaa\\xc0\\xaf\\x00<\\x01W\\xf47\\xab'\n",
    "a = a + b'\\xaa'\n",
    "print(len(a))\n",
    "print(a)\n",
    "import struct\n",
    "print(a[6])\n",
    "print(a[7])\n",
    "print(a[3])\n",
    "print(a[4])\n",
    "print(a[5])\n",
    "raw = struct.unpack('<HHxxBBB', a[2:])\n",
    "print(raw)\n",
    "\n",
    "print(a[3:6])\n",
    "print(len(a[3:6]))\n",
    "data = a[3:6]\n",
    "print(struct.calcsize('<bxbxb'))\n",
    "raw = struct.unpack('<bbb', a[3:6])\n",
    "print(raw)"
   ]
  },
  {
   "cell_type": "code",
   "execution_count": 39,
   "id": "indie-confusion",
   "metadata": {},
   "outputs": [
    {
     "name": "stdout",
     "output_type": "stream",
     "text": [
      "0xf457\n",
      "b'\\xf4W'\n",
      "[244, 87]\n",
      "<class 'bytes'>\n",
      "62551\n"
     ]
    },
    {
     "ename": "error",
     "evalue": "ubyte format requires 0 <= number <= 255",
     "output_type": "error",
     "traceback": [
      "\u001b[0;31m---------------------------------------------------------------------------\u001b[0m",
      "\u001b[0;31merror\u001b[0m                                     Traceback (most recent call last)",
      "\u001b[0;32m<ipython-input-39-78c67ca50dad>\u001b[0m in \u001b[0;36m<module>\u001b[0;34m\u001b[0m\n\u001b[1;32m     11\u001b[0m \u001b[0mc\u001b[0m \u001b[0;34m=\u001b[0m \u001b[0mint\u001b[0m\u001b[0;34m.\u001b[0m\u001b[0mfrom_bytes\u001b[0m\u001b[0;34m(\u001b[0m\u001b[0mb\u001b[0m\u001b[0;34m,\u001b[0m\u001b[0;34m'big'\u001b[0m\u001b[0;34m)\u001b[0m\u001b[0;34m\u001b[0m\u001b[0;34m\u001b[0m\u001b[0m\n\u001b[1;32m     12\u001b[0m \u001b[0mprint\u001b[0m\u001b[0;34m(\u001b[0m\u001b[0mc\u001b[0m\u001b[0;34m)\u001b[0m\u001b[0;34m\u001b[0m\u001b[0;34m\u001b[0m\u001b[0m\n\u001b[0;32m---> 13\u001b[0;31m \u001b[0mprint\u001b[0m\u001b[0;34m(\u001b[0m\u001b[0mstruct\u001b[0m\u001b[0;34m.\u001b[0m\u001b[0mpack\u001b[0m\u001b[0;34m(\u001b[0m\u001b[0;34m'B'\u001b[0m\u001b[0;34m,\u001b[0m \u001b[0mc\u001b[0m\u001b[0;34m)\u001b[0m\u001b[0;34m)\u001b[0m\u001b[0;34m\u001b[0m\u001b[0;34m\u001b[0m\u001b[0m\n\u001b[0m",
      "\u001b[0;31merror\u001b[0m: ubyte format requires 0 <= number <= 255"
     ]
    }
   ],
   "source": [
    "import struct\n",
    "id_l = []\n",
    "s = 0xf457\n",
    "print(hex(s))\n",
    "b = s.to_bytes(2,\"big\")\n",
    "print(b[:2])\n",
    "id_l.append(b[0])\n",
    "id_l.append(b[1])\n",
    "print(id_l)\n",
    "print(type(b))\n",
    "c = int.from_bytes(b,'big')\n",
    "print(c)\n",
    "print(struct.pack('B', c))"
   ]
  },
  {
   "cell_type": "code",
   "execution_count": 47,
   "id": "peripheral-sheriff",
   "metadata": {},
   "outputs": [
    {
     "data": {
      "text/plain": [
       "b'\\xf4'"
      ]
     },
     "execution_count": 47,
     "metadata": {},
     "output_type": "execute_result"
    }
   ],
   "source": [
    "(244).to_bytes(1, byteorder='big')"
   ]
  },
  {
   "cell_type": "code",
   "execution_count": 57,
   "id": "scheduled-beads",
   "metadata": {},
   "outputs": [
    {
     "name": "stdout",
     "output_type": "stream",
     "text": [
      "b'W'\n",
      "b'\\xf4'\n",
      "b'W\\xf4'\n",
      "(62551,)\n",
      "0xf457\n"
     ]
    }
   ],
   "source": [
    "dev1 = struct.pack('B', 87)\n",
    "dev2 = struct.pack('B', 244)\n",
    "print(dev1)\n",
    "print(dev2)\n",
    "print(dev1 +dev2)\n",
    "devID = struct.unpack('H', dev1+dev2)\n",
    "print(devID)\n",
    "print(hex(devID[0]))"
   ]
  },
  {
   "cell_type": "code",
   "execution_count": null,
   "id": "disabled-tracker",
   "metadata": {},
   "outputs": [],
   "source": []
  }
 ],
 "metadata": {
  "kernelspec": {
   "display_name": "Python 3",
   "language": "python",
   "name": "python3"
  },
  "language_info": {
   "codemirror_mode": {
    "name": "ipython",
    "version": 3
   },
   "file_extension": ".py",
   "mimetype": "text/x-python",
   "name": "python",
   "nbconvert_exporter": "python",
   "pygments_lexer": "ipython3",
   "version": "3.8.5"
  }
 },
 "nbformat": 4,
 "nbformat_minor": 5
}
